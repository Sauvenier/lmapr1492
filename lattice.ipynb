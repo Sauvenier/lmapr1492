{
 "cells": [
  {
   "cell_type": "markdown",
   "metadata": {},
   "source": [
    "# Tâche n°5 : Détermination de différentes caractéristiques du matériau."
   ]
  },
  {
   "cell_type": "markdown",
   "metadata": {},
   "source": [
    "Tout d'abord, les informations sur la structure du matériau sont téléchargées comme fait à la tâche précédente."
   ]
  },
  {
   "cell_type": "code",
   "execution_count": 26,
   "metadata": {},
   "outputs": [
    {
     "name": "stdout",
     "output_type": "stream",
     "text": [
      "Full Formula (Li1 Lu1 O2)\n",
      "Reduced Formula: LiLuO2\n",
      "abc   :   5.375778   5.375778   5.375778\n",
      "angles:  35.456019  35.456019  35.456019\n",
      "Sites (4)\n",
      "  #  SP           a         b         c\n",
      "---  ----  --------  --------  --------\n",
      "  0  Li    0         0         0\n",
      "  1  Lu    0.5       0.5       0.5\n",
      "  2  O     0.243887  0.243887  0.243887\n",
      "  3  O     0.756113  0.756113  0.756113\n"
     ]
    }
   ],
   "source": [
    "from pymatgen.ext.matproj import MPRester\n",
    "from pymatgen.ext.matproj import SpacegroupAnalyzer\n",
    "\n",
    "with MPRester(\"xWGoUhg0LtBEwfAi\") as m:\n",
    "    structure = m.get_structure_by_material_id(\"mp-754537\")\n",
    "    truestru = SpacegroupAnalyzer(structure).get_primitive_standard_structure() \n",
    "    sg = SpacegroupAnalyzer(truestru)\n",
    "    print(truestru)"
   ]
  },
  {
   "cell_type": "markdown",
   "metadata": {},
   "source": [
    "## 1) Vecteur de bases réseaux direct "
   ]
  },
  {
   "cell_type": "code",
   "execution_count": 15,
   "metadata": {},
   "outputs": [
    {
     "name": "stdout",
     "output_type": "stream",
     "text": [
      "Vecteur de base du réseau direct sous forme matriciel : 5.120497 -1.636918 0.000000\n",
      "5.120497 1.636918 0.000000\n",
      "4.597208 0.000000 2.786515\n",
      "Vecteur de base du réseau direct sous forme abc : (5.375778177650529, 5.375778177650529, 5.375778177650529)\n"
     ]
    }
   ],
   "source": [
    "rdm = truestru.lattice # vecteurs de base du réseaux direct sous forme matriciel\n",
    "rd = rdm.abc #vecteur de base du réseaux direct sous forme abc\n",
    "\n",
    "print(\"Vecteurs de base du réseau direct sous forme matriciel :\", rdm)\n",
    "print(\"Vecteurs de base du réseau direct sous forme abc :\", rd)\n"
   ]
  },
  {
   "cell_type": "markdown",
   "metadata": {},
   "source": [
    "On peut vérifier que les vecteurs de base du réseaux direct sont correctes en les comparant aux informations données par la variable \"truestru\" affichées ci-dessus."
   ]
  },
  {
   "cell_type": "markdown",
   "metadata": {},
   "source": [
    "## 2) Vecteur de bases réseaux réciproques"
   ]
  },
  {
   "cell_type": "code",
   "execution_count": 25,
   "metadata": {},
   "outputs": [
    {
     "name": "stdout",
     "output_type": "stream",
     "text": [
      "Vecteur de base du réseaux réciproque sous forme matriciel : 0.613533 -1.919212 -1.012210\n",
      "0.613533 1.919212 -1.012210\n",
      "0.000000 0.000000 2.254854\n",
      "Vecteur de base du réseaux réciproque sous forme abc : (2.25485411757049, 2.25485411757049, 2.2548541175704897)\n"
     ]
    }
   ],
   "source": [
    "rrm = truestru.lattice.reciprocal_lattice # vecteurs de base du réseau réciproque sous forme matriciel\n",
    "rr = rrm.abc # vecteurs de base du réseau réciproquesous forme abc\n",
    "\n",
    "print(\"Vecteurs de base du réseaux réciproque sous forme matriciel :\",rrm)\n",
    "print(\"Vecteurs de base du réseaux réciproque sous forme abc :\",rr)\n"
   ]
  },
  {
   "cell_type": "markdown",
   "metadata": {},
   "source": [
    "La vérification de ces vecteurs de bases peut être éffectuée en prenant la définition que : *a*⋅a= 2π*. Si on fait le produit scalaire entre a = [5.120497 -1.636918 0.000000] et a* = [0.613533 -1.919212 -1.012210], celui-ci est bien égale à *2π*.\n"
   ]
  },
  {
   "cell_type": "markdown",
   "metadata": {},
   "source": [
    "## 3) Type de maille"
   ]
  },
  {
   "cell_type": "code",
   "execution_count": 17,
   "metadata": {},
   "outputs": [
    {
     "name": "stdout",
     "output_type": "stream",
     "text": [
      "Son type de maille est rhombohedral\n"
     ]
    }
   ],
   "source": [
    "tmaille = sg.get_lattice_type()\n",
    "print(\"Son type de maille est\" ,tmaille)"
   ]
  },
  {
   "cell_type": "markdown",
   "metadata": {},
   "source": [
    "## 4) Système cristallin"
   ]
  },
  {
   "cell_type": "code",
   "execution_count": 18,
   "metadata": {},
   "outputs": [
    {
     "name": "stdout",
     "output_type": "stream",
     "text": [
      "Son système cristallin est trigonal\n"
     ]
    }
   ],
   "source": [
    "sc = sg.get_crystal_system()\n",
    "print(\"Son système cristallin est\", sc) \n"
   ]
  },
  {
   "cell_type": "markdown",
   "metadata": {},
   "source": [
    "## 5) Groupe ponctuel\n",
    "Avec la notation de Hermann Mauguin"
   ]
  },
  {
   "cell_type": "code",
   "execution_count": 19,
   "metadata": {},
   "outputs": [
    {
     "name": "stdout",
     "output_type": "stream",
     "text": [
      "Son groupe ponctuel est -3m\n"
     ]
    }
   ],
   "source": [
    "gp = sg.get_point_group_symbol() \n",
    "print(\"Son groupe ponctuel est\", gp)"
   ]
  },
  {
   "cell_type": "markdown",
   "metadata": {},
   "source": [
    "# Références"
   ]
  },
  {
   "cell_type": "markdown",
   "metadata": {},
   "source": [
    "- [Materials Project](https://materialsproject.org) \n",
    "- [pymatgen.core.structure](https://pymatgen.org/pymatgen.core.structure.html) Ce lien redirige vers l'interface \"pymatgen.core.structure\" permettant de trouver l'existence de la propriétée structure.lattice (Utile pour le point 1 et 2)\n",
    "- [pymatgen.core.lattice](https://pymatgen.org/pymatgen.core.lattice.html) Ce lien redirige vers l'interface \"pymatgen.core.lattice\" permettant de trouver l'existence des propriétés : \"Lattice.abc\" et \"Lattice.reciprocal_lattice\" (Utile pour les points 1 et 2)\n",
    "- [pymatgen.symmetry.analyzer](https://pymatgen.org/pymatgen.symmetry.analyzer.html?highlight=spacegroupanalyzer#pymatgen.symmetry.analyzer.SpacegroupAnalyzer) Ce lien redirige vers l'interface \"pymatgen.symmetry.analyzer\" permettant de trouver les spécifications des trois fonctions utilisées pour répondre aux points 3-4-5."
   ]
  }
 ],
 "metadata": {
  "kernelspec": {
   "display_name": "Python 3",
   "language": "python",
   "name": "python3"
  },
  "language_info": {
   "codemirror_mode": {
    "name": "ipython",
    "version": 3
   },
   "file_extension": ".py",
   "mimetype": "text/x-python",
   "name": "python",
   "nbconvert_exporter": "python",
   "pygments_lexer": "ipython3",
   "version": "3.6.8"
  }
 },
 "nbformat": 4,
 "nbformat_minor": 2
}

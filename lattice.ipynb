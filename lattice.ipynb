{
 "cells": [
  {
   "cell_type": "markdown",
   "metadata": {},
   "source": [
    "# Tâche n°5 : Déterminer différentes caractéristiques de notre matériau."
   ]
  },
  {
   "cell_type": "markdown",
   "metadata": {},
   "source": [
    "Tout d'abord, nous téléchargeons les informations de notre matériau grâce au cite [Materials Project](https://materialsproject.org)"
   ]
  },
  {
   "cell_type": "code",
   "execution_count": 26,
   "metadata": {},
   "outputs": [],
   "source": [
    "from pymatgen.ext.matproj import MPRester\n",
    "from pymatgen.ext.matproj import SpacegroupAnalyzer\n",
    "from pymatgen.core.lattice import Lattice\n",
    "\n",
    "with MPRester(\"xWGoUhg0LtBEwfAi\") as m:\n",
    "    structure = m.get_structure_by_material_id(\"mp-754537\")\n",
    "    truestru = SpacegroupAnalyzer(structure).get_primitive_standard_structure() \n",
    "    sg = SpacegroupAnalyzer(truestru)"
   ]
  },
  {
   "cell_type": "markdown",
   "metadata": {},
   "source": [
    "## 1) Vecteur de bases réseaux direct "
   ]
  },
  {
   "cell_type": "code",
   "execution_count": 27,
   "metadata": {},
   "outputs": [
    {
     "name": "stdout",
     "output_type": "stream",
     "text": [
      "Vecteur de base du réseau direct sous forme matriciel :\n",
      "5.120497 -1.636918 0.000000\n",
      "5.120497 1.636918 0.000000\n",
      "4.597208 0.000000 2.786515\n",
      "Vecteur de base du réseau direct sous forme abc :\n",
      "(5.375778177650529, 5.375778177650529, 5.375778177650529)\n"
     ]
    }
   ],
   "source": [
    "rdm = truestru.lattice #vecteur de base du réseau direct sous forme matriciel\n",
    "rd = rdm.abc #vecteur de base du réseau direct sous forme abc\n",
    "print(\"Vecteur de base du réseau direct sous forme matriciel :\")\n",
    "print(rdm)\n",
    "print(\"Vecteur de base du réseau direct sous forme abc :\")\n",
    "print(rd)"
   ]
  },
  {
   "cell_type": "markdown",
   "metadata": {},
   "source": [
    "## 2) Vecteur de bases réseaux réciproques"
   ]
  },
  {
   "cell_type": "code",
   "execution_count": 33,
   "metadata": {},
   "outputs": [
    {
     "name": "stdout",
     "output_type": "stream",
     "text": [
      "Vecteur de base du réseau réciproque sous forme matriciel :\n",
      "0.613533 -1.919212 -1.012210\n",
      "0.613533 1.919212 -1.012210\n",
      "0.000000 0.000000 2.254854\n",
      "Vecteur de base du réseau réciproque sous forme abc :\n",
      "(2.25485411757049, 2.25485411757049, 2.2548541175704897)\n"
     ]
    }
   ],
   "source": [
    "rrm = truestru.lattice.reciprocal_lattice ##vecteur de base du réseau réciproque sous forme matriciel\n",
    "rr = rrm.abc ##sous forme abc\n",
    "print(\"Vecteur de base du réseau réciproque sous forme matriciel :\")\n",
    "print(rrm)\n",
    "\n",
    "print(\"Vecteur de base du réseau réciproque sous forme abc :\")\n",
    "print(rr)"
   ]
  },
  {
   "cell_type": "markdown",
   "metadata": {},
   "source": [
    "## 3) Type de maille"
   ]
  },
  {
   "cell_type": "code",
   "execution_count": 31,
   "metadata": {},
   "outputs": [
    {
     "name": "stdout",
     "output_type": "stream",
     "text": [
      "Son type de maille est rhombohedral\n",
      "rhombohedral\n"
     ]
    }
   ],
   "source": [
    "tmaille = sg.get_lattice_type()\n",
    "print(\"Son type de maille est\" ,tmaille)"
   ]
  },
  {
   "cell_type": "markdown",
   "metadata": {},
   "source": [
    "## 4) Système cristallin"
   ]
  },
  {
   "cell_type": "code",
   "execution_count": null,
   "metadata": {},
   "outputs": [],
   "source": [
    "cs = sg.get_crystal_system() \n",
    "print(\"Son système cristallin est\", cs)"
   ]
  },
  {
   "cell_type": "markdown",
   "metadata": {},
   "source": [
    "## 5) Groupe ponctuel\n",
    "Avec la notation de Hermann Mauguin"
   ]
  },
  {
   "cell_type": "code",
   "execution_count": 32,
   "metadata": {},
   "outputs": [
    {
     "name": "stdout",
     "output_type": "stream",
     "text": [
      "Son groupe ponctuel est -3m\n"
     ]
    }
   ],
   "source": [
    "gp = sg.get_point_group_symbol() \n",
    "print(\"Son groupe ponctuel est\", gp)"
   ]
  },
  {
   "cell_type": "markdown",
   "metadata": {},
   "source": []
  },
  {
   "cell_type": "code",
   "execution_count": null,
   "metadata": {},
   "outputs": [],
   "source": []
  }
 ],
 "metadata": {
  "kernelspec": {
   "display_name": "Python 3",
   "language": "python",
   "name": "python3"
  },
  "language_info": {
   "codemirror_mode": {
    "name": "ipython",
    "version": 3
   },
   "file_extension": ".py",
   "mimetype": "text/x-python",
   "name": "python",
   "nbconvert_exporter": "python",
   "pygments_lexer": "ipython3",
   "version": "3.6.8"
  }
 },
 "nbformat": 4,
 "nbformat_minor": 2
}

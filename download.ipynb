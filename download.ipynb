{
 "cells": [
  {
   "cell_type": "code",
   "execution_count": 7,
   "metadata": {},
   "outputs": [
    {
     "data": {
      "text/plain": [
       "\"J'ai du recré une variable 'trustru' car la structure donné par le site Materials Project a un problème. En effet, mon materiau est trigonal et pourtant les 3 longueurs renvoyé par la variable structure sont différentes. Cette petite manipulation permet de bien obtenir les 3 longeurs identiques attendues  \""
      ]
     },
     "execution_count": 7,
     "metadata": {},
     "output_type": "execute_result"
    }
   ],
   "source": [
    "from pymatgen.ext.matproj import MPRester\n",
    "from pymatgen.ext.matproj import SpacegroupAnalyzer\n",
    "\n",
    "with MPRester(\"xWGoUhg0LtBEwfAi\") as m:\n",
    "##Dans cette partie, le matériau est téléchargé sur base de l'API donné par le site \"Materials Project\"\n",
    "    structure = m.get_structure_by_material_id(\"mp-754537\")\n",
    "    truestru = SpacegroupAnalyzer(structure).get_primitive_standard_structure() \n",
    "\"J'ai du recré une variable 'trustru' car la structure donné par le site Materials Project a un problème. En effet, mon materiau est trigonal et pourtant les 3 longueurs renvoyé par la variable structure sont différentes. Cette petite manipulation permet de bien obtenir les 3 longeurs identiques attendues  \"    "
   ]
  },
  {
   "cell_type": "code",
   "execution_count": null,
   "metadata": {},
   "outputs": [],
   "source": []
  }
 ],
 "metadata": {
  "kernelspec": {
   "display_name": "Python 3",
   "language": "python",
   "name": "python3"
  },
  "language_info": {
   "codemirror_mode": {
    "name": "ipython",
    "version": 3
   },
   "file_extension": ".py",
   "mimetype": "text/x-python",
   "name": "python",
   "nbconvert_exporter": "python",
   "pygments_lexer": "ipython3",
   "version": "3.6.8"
  }
 },
 "nbformat": 4,
 "nbformat_minor": 2
}

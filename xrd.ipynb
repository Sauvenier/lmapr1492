{
 "cells": [
  {
   "cell_type": "markdown",
   "metadata": {},
   "source": [
    "# Tâche n°7 : Etude du diffractogramme de la molécule LiLuO2 pour un rayonnement X incident Cu Kα de longueur d’onde λ=1.54060 Å"
   ]
  },
  {
   "cell_type": "code",
   "execution_count": 16,
   "metadata": {},
   "outputs": [],
   "source": [
    "from pymatgen.analysis.diffraction.xrd import XRDCalculator\n",
    "from pymatgen.ext.matproj import MPRester\n",
    "from pymatgen.ext.matproj import SpacegroupAnalyzer\n",
    "\n",
    "with MPRester(\"xWGoUhg0LtBEwfAi\") as m:\n",
    "\n",
    "    structure = m.get_structure_by_material_id(\"mp-754537\")\n",
    "    truestru = SpacegroupAnalyzer(structure).get_primitive_standard_structure() "
   ]
  },
  {
   "cell_type": "markdown",
   "metadata": {},
   "source": [
    "Après avoir récupéré la structure du matériau, le schéma de diffraction est obtenu grâce à la fonction \"get_pattern\". Venant de la classe XRDCalculator.\n",
    "La classe XRDCalculator prend comme argument la valeure de la longueur d'onde du rayonnement incident.\n",
    "Cette fonction \"get_pattern\" prend 3 arguments : \n",
    "1. Le premier argument est tout simplement la structure du matériau\n",
    "2. Le second propose un échellonement des valeurs selon la valeure maximale. Je l'ai mise ici à la valeur \"False\" pour obtenir les véritables valeurs des différentes intensitées\n",
    "3. Le dernier donne l'ensemble des valeurs de 2θ auxquels l'intensité doit être calculé. Dans ce cas, l'ensemble est [0;35] afin de faire apparaitre uniquement les 3 premiers pics comme demandés.\n",
    "La classe XRDCalculator quant-à elle prend comme argument la valeure de la longueur d'onde du rayonnement incident."
   ]
  },
  {
   "cell_type": "code",
   "execution_count": 17,
   "metadata": {},
   "outputs": [
    {
     "name": "stdout",
     "output_type": "stream",
     "text": [
      "DiffractionPattern\n",
      "$2\\Theta$: [17.60909433 32.09551175 33.74228299]\n",
      "Intensity: [720805.68014665 471816.24004449 310891.5258749 ]\n"
     ]
    }
   ],
   "source": [
    "XRDPattern = XRDCalculator(1.54060).get_pattern(truestru,scaled=False, two_theta_range=(0, 35))\n",
    "print(XRDPattern)"
   ]
  },
  {
   "cell_type": "markdown",
   "metadata": {},
   "source": [
    "Pour terminer, voici un résumé pour chaque pics avec les informations demandées."
   ]
  },
  {
   "cell_type": "markdown",
   "metadata": {},
   "source": [
    " Pour le premier pic nous avons : "
   ]
  },
  {
   "cell_type": "code",
   "execution_count": 19,
   "metadata": {},
   "outputs": [
    {
     "name": "stdout",
     "output_type": "stream",
     "text": [
      "intensité = 720805.6801466532\n",
      "2θ = 17.609094334482283\n",
      "indice hkl= {'hkl': (1, 1, 1), 'multiplicity': 2}\n"
     ]
    }
   ],
   "source": [
    "print(\"intensité =\", XRDPattern.y[0])\n",
    "print(\"2θ =\", XRDPattern.x[0])\n",
    "print(\"indice hkl=\",XRDPattern.hkls[0][0])"
   ]
  },
  {
   "cell_type": "markdown",
   "metadata": {},
   "source": [
    " Pour le second pic :"
   ]
  },
  {
   "cell_type": "code",
   "execution_count": 20,
   "metadata": {},
   "outputs": [
    {
     "name": "stdout",
     "output_type": "stream",
     "text": [
      "intensité = 471816.24004448566\n",
      "2θ = 32.09551175426517\n",
      "indice hkl= {'hkl': (1, 0, 0), 'multiplicity': 6}\n"
     ]
    }
   ],
   "source": [
    "print(\"intensité =\", XRDPattern.y[1])\n",
    "print(\"2θ =\", XRDPattern.x[1])\n",
    "print(\"indice hkl=\",XRDPattern.hkls[1][0])"
   ]
  },
  {
   "cell_type": "markdown",
   "metadata": {},
   "source": [
    "Pour le troisième pic :"
   ]
  },
  {
   "cell_type": "code",
   "execution_count": 21,
   "metadata": {},
   "outputs": [
    {
     "name": "stdout",
     "output_type": "stream",
     "text": [
      "intensité = 310891.5258749003\n",
      "2θ = 33.74228298987604\n",
      "indice hkl= {'hkl': (1, 1, 0), 'multiplicity': 6}\n"
     ]
    }
   ],
   "source": [
    "print(\"intensité =\", XRDPattern.y[2])\n",
    "print(\"2θ =\", XRDPattern.x[2])\n",
    "print(\"indice hkl=\",XRDPattern.hkls[2][0])"
   ]
  },
  {
   "cell_type": "markdown",
   "metadata": {},
   "source": [
    "## Références : "
   ]
  },
  {
   "cell_type": "markdown",
   "metadata": {},
   "source": [
    "Pour les fonctions de python : [pymatgen.analysis.diffraction.xrd module](https://pymatgen.org/pymatgen.analysis.diffraction.xrd.html)\n",
    "\n"
   ]
  }
 ],
 "metadata": {
  "kernelspec": {
   "display_name": "Python 3",
   "language": "python",
   "name": "python3"
  },
  "language_info": {
   "codemirror_mode": {
    "name": "ipython",
    "version": 3
   },
   "file_extension": ".py",
   "mimetype": "text/x-python",
   "name": "python",
   "nbconvert_exporter": "python",
   "pygments_lexer": "ipython3",
   "version": "3.6.8"
  }
 },
 "nbformat": 4,
 "nbformat_minor": 2
}

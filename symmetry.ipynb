{
 "cells": [
  {
   "cell_type": "markdown",
   "metadata": {},
   "source": [
    "# Tâche n°6 : Etudier un effet de symmétrie sur trois atomes distincts."
   ]
  },
  {
   "cell_type": "markdown",
   "metadata": {},
   "source": [
    "Pour commencer, les informations du matériau sont à nouveau téléchargées. "
   ]
  },
  {
   "cell_type": "code",
   "execution_count": 65,
   "metadata": {},
   "outputs": [],
   "source": [
    "from pymatgen.ext.matproj import MPRester\n",
    "from pymatgen.ext.matproj import SpacegroupAnalyzer\n",
    "\n",
    "with MPRester(\"xWGoUhg0LtBEwfAi\") as m:\n",
    "    structure = m.get_structure_by_material_id(\"mp-754537\") \n",
    "    truestru = SpacegroupAnalyzer(structure).get_primitive_standard_structure() \n",
    "    sg = SpacegroupAnalyzer(truestru) "
   ]
  },
  {
   "cell_type": "markdown",
   "metadata": {},
   "source": [
    "## 0) Déteminer les opérations de symmétries du matériau"
   ]
  },
  {
   "cell_type": "markdown",
   "metadata": {},
   "source": [
    "Ensuite, différentes petites manipulations sont réalisées afin de pouvoir commencer l'analyse des symmétries.\n",
    "En effet, un site internet permmettant de représenter les opérations de symétrie a été donné.(voir références)"
   ]
  },
  {
   "cell_type": "code",
   "execution_count": 75,
   "metadata": {},
   "outputs": [
    {
     "data": {
      "text/plain": [
       "[PeriodicSite: Li (0.0000, 0.0000, 0.0000) [0.0000, 0.0000, 0.0000],\n",
       " PeriodicSite: Li (1.6369, -0.9451, 5.0325) [0.6667, 0.3333, 0.3333],\n",
       " PeriodicSite: Li (1.6369, 0.9451, 10.0651) [0.3333, 0.6667, 0.6667],\n",
       " PeriodicSite: Lu (1.6369, -0.9451, 12.5813) [0.6667, 0.3333, 0.8333],\n",
       " PeriodicSite: Lu (1.6369, 0.9451, 2.5163) [0.3333, 0.6667, 0.1667],\n",
       " PeriodicSite: Lu (3.2738, 0.0000, 7.5488) [1.0000, 1.0000, 0.5000],\n",
       " PeriodicSite: O (1.6369, 0.9451, 13.7472) [0.3333, 0.6667, 0.9106],\n",
       " PeriodicSite: O (0.0000, 0.0000, 11.4155) [0.0000, 0.0000, 0.7561],\n",
       " PeriodicSite: O (0.0000, 0.0000, 3.6821) [0.0000, 0.0000, 0.2439],\n",
       " PeriodicSite: O (1.6369, -0.9451, 1.3504) [0.6667, 0.3333, 0.0894],\n",
       " PeriodicSite: O (1.6369, -0.9451, 8.7146) [0.6667, 0.3333, 0.5772],\n",
       " PeriodicSite: O (1.6369, 0.9451, 6.3829) [0.3333, 0.6667, 0.4228]]"
      ]
     },
     "execution_count": 75,
     "metadata": {},
     "output_type": "execute_result"
    }
   ],
   "source": [
    "struconv  = SpacegroupAnalyzer(structure).get_conventional_standard_structure()\n",
    "#nouvelle structure conventionnelle pour être en accord avec le site internet donné\n",
    "# cette fonction peut être trouvée grâce à la référence n°3\n",
    "sites = conv.sites \n",
    "# les positions des atomes sont récupérées\n",
    "# cette propriétée peut être trouvée grâce à la référence n°4"
   ]
  },
  {
   "cell_type": "markdown",
   "metadata": {},
   "source": [
    "Pour terminer les manipulations, une liste de toutes les opérations de symétries est nécessaire. 36 opérations de symmétries sont trouvées pour la molécule LiLuO2."
   ]
  },
  {
   "cell_type": "code",
   "execution_count": 77,
   "metadata": {},
   "outputs": [],
   "source": [
    "symetrie = SpacegroupAnalyzer(conv).get_symmetry_operations()"
   ]
  },
  {
   "cell_type": "markdown",
   "metadata": {},
   "source": [
    "## 1) Inversion pour un atome d'oxygène"
   ]
  },
  {
   "cell_type": "markdown",
   "metadata": {},
   "source": [
    "Une première opération de symétrie est appliquée à l'atome d'oxygène en position (0.67,0.33,0.58)(position n°7 sur le site)\n",
    "L'opération est une opération de symétrie en (-x,-y,-z), c'est la deuxième opération de symétrie du site."
   ]
  },
  {
   "cell_type": "code",
   "execution_count": 78,
   "metadata": {},
   "outputs": [
    {
     "name": "stdout",
     "output_type": "stream",
     "text": [
      "La matrice de rotation de l'inversion est  [[-1.  0.  0.]\n",
      " [ 0. -1.  0.]\n",
      " [ 0.  0. -1.]]\n",
      "Le vecteur de translation de l'inversion est  [0. 0. 0.]\n",
      "Les coordonées du vecteurs après inversion sont [-0.66666667 -0.33333333 -0.5772208 ]\n"
     ]
    }
   ],
   "source": [
    "Inversion = symetrie[1] #Donne la matrice d'inversion\n",
    "print(\"La matrice de rotation de l'inversion est \", Inversion.rotation_matrix)\n",
    "#montre la matrice de rotation, permet de vérifier que l'on a bien une rotation \n",
    "print(\"Le vecteur de translation de l'inversion est \", Inversion.translation_vector) \n",
    "#montre la matrice de translation permet de vérifier que l'on n'a pas de translation (matrice nulle)\n",
    "print(\"Les coordonées du vecteurs après inversion sont\",Inversion.operate(sites[10].frac_coords))\n",
    "#la matrice d'inversion est appliquée aux coordonnées choisies\n",
    "\n",
    "# Les deux propriétées (SymmOp.rotation_matrix et SymmOp.translation_vector) et la fonction (SymmOp.operate()) peuvent être trouvées grâce à la référence n°5"
   ]
  },
  {
   "cell_type": "markdown",
   "metadata": {},
   "source": [
    "Ci-dessous, une photo représentant l'effet de cette symétrie."
   ]
  },
  {
   "cell_type": "markdown",
   "metadata": {},
   "source": [
    "![Inversion pour l'atome d'oxygène](inversionO2.png \"Inversion pour l'atome d'oxygène\")"
   ]
  },
  {
   "cell_type": "markdown",
   "metadata": {},
   "source": [
    "## 2) Réflexion sur un atome de luthécium\n",
    "Une opération de symétrie est maintenant appliquée à un atome de Luthécium qui se trouve en position (0.33,0.67,0.17) (n°10 sur le site). Le plan miroir choisit est le plan (-y,-x,z) (symétrie n°8 sur le site)"
   ]
  },
  {
   "cell_type": "code",
   "execution_count": 68,
   "metadata": {},
   "outputs": [
    {
     "name": "stdout",
     "output_type": "stream",
     "text": [
      "La matrice de rotation de la réflexion est  [[ 0. -1.  0.]\n",
      " [-1.  0.  0.]\n",
      " [ 0.  0.  1.]]\n",
      "Le vecteur de translation de la réflexion est  [0. 0. 0.]\n",
      "Les coordonées du vecteurs après la réflexion sont [-0.66666667 -0.33333333  0.16666667]\n"
     ]
    }
   ],
   "source": [
    "reflex = symetrie[7]\n",
    "print(\"La matrice de rotation de la réflexion est \", reflex.rotation_matrix)\n",
    "#montre la matrice de rotation, permet de vérifier que l'on a bien un bien un plan miroir en (-y,-x,z)\n",
    "print(\"Le vecteur de translation de la réflexion est \", reflex.translation_vector)\n",
    "#montre la matrice de translation permet de vérifier que l'on n'a pas de translation \n",
    "print(\"Les coordonées du vecteurs après la réflexion sont\",reflex.operate(sites[4].frac_coords))\n",
    "#la matrice de réflexion est appliquée aux coordonnées choisies"
   ]
  },
  {
   "cell_type": "markdown",
   "metadata": {},
   "source": [
    "Ci-dessous une image représentant l'effet de la réflexion sur l'atome de luthécium."
   ]
  },
  {
   "cell_type": "markdown",
   "metadata": {},
   "source": [
    "![Inversion pour l'atome de luthécium](reflexionLu.png \"Plan miroir pour l'atome de luthécium\")"
   ]
  },
  {
   "cell_type": "markdown",
   "metadata": {},
   "source": [
    "## 3) Translation sur un atome de lithium\n",
    "La dernière opération est une opération de translation sur un atome de lithium qui se trouve en position (0.67,0.33,0.33). La translation s'effectue d'une valeure de (x-1/3, y+1/3, z+1/3)"
   ]
  },
  {
   "cell_type": "code",
   "execution_count": 76,
   "metadata": {},
   "outputs": [
    {
     "name": "stdout",
     "output_type": "stream",
     "text": [
      "La matrice de rotation de la translation est  [[1. 0. 0.]\n",
      " [0. 1. 0.]\n",
      " [0. 0. 1.]]\n",
      "La matrice de translation de la translation est  [0.66666667 0.33333333 0.33333333]\n",
      "Les coordonées du vecteurs après la translation sont [1.33333333 0.66666667 0.66666667]\n"
     ]
    }
   ],
   "source": [
    "translation = symetrie[12]\n",
    "print(\"La matrice de rotation de la translation est \", translation.rotation_matrix)\n",
    "#montre la matrice de rotation, permet de vérifier qu'elle n'a aucun impact.\n",
    "print(\"La matrice de translation de la translation est \", translation.translation_vector)\n",
    "#montre la matrice de translation, permet de vérifier les valeurs de celle-ci.\n",
    "print(\"Les coordonées du vecteurs après la translation sont\",translation.operate(sites[1].frac_coords))\n",
    "#la matrice de translation est appliquée aux coordonnées choisies."
   ]
  },
  {
   "cell_type": "markdown",
   "metadata": {},
   "source": [
    "Ci-dessous une image représentant l'effet de la translation  sur l'atome de Lithium."
   ]
  },
  {
   "cell_type": "markdown",
   "metadata": {},
   "source": [
    "![Translation pour l'atome de lithium](translationLi.png \"Translation pour l'atome de lithium\")"
   ]
  },
  {
   "cell_type": "markdown",
   "metadata": {},
   "source": [
    "# Références : \n",
    "1. [Materials Project](https://materialsproject.org)\n",
    "2. [Jmol Crystal Symmetry Explorer](https://www.pslc.ws/jsmol/jcse/explore.htm) Site permmettant de représenter les opérations de symétries.\n",
    "3. [pymatgen.symmetry.analyzer](https://pymatgen.org/pymatgen.symmetry.analyzer.html?highlight=get_conventional_standard_structure#pymatgen.symmetry.analyzer.SpacegroupAnalyzer.get_conventional_standard_structure) Interface permettant de déteminer l'ensembles des opérations de symmétries \n",
    "4. [pymatgen.core.sites](https://pymatgen.org/pymatgen.core.sites.html)Permet de déterminer la position des atomes dans la molécule\n",
    "5. [pymatgen.core.operations](https://pymatgen.org/pymatgen.core.operations.html?highlight=rotation_matrix#pymatgen.core.operations.SymmOp.rotation_matrix) Permet de trouver les opérations de symmétries"
   ]
  }
 ],
 "metadata": {
  "kernelspec": {
   "display_name": "Python 3",
   "language": "python",
   "name": "python3"
  },
  "language_info": {
   "codemirror_mode": {
    "name": "ipython",
    "version": 3
   },
   "file_extension": ".py",
   "mimetype": "text/x-python",
   "name": "python",
   "nbconvert_exporter": "python",
   "pygments_lexer": "ipython3",
   "version": "3.6.8"
  }
 },
 "nbformat": 4,
 "nbformat_minor": 2
}

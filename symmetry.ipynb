{
 "cells": [
  {
   "cell_type": "markdown",
   "metadata": {},
   "source": [
    "# Tâche n°6 : Etudier un effet de symmétrie sur trois atomes distincts."
   ]
  },
  {
   "cell_type": "markdown",
   "metadata": {},
   "source": [
    "Pour commencer, les informations de notre matériau sont téléchargées via le site [Materials Project](https://materialsproject.org)"
   ]
  },
  {
   "cell_type": "code",
   "execution_count": 32,
   "metadata": {},
   "outputs": [],
   "source": [
    "import matplotlib.image as mpimg\n",
    "import matplotlib.pyplot as plt\n",
    "import numpy as np\n",
    "from pymatgen.core.operations import SymmOp\n",
    "from pymatgen.ext.matproj import MPRester\n",
    "from pymatgen.ext.matproj import SpacegroupAnalyzer\n",
    "\n",
    "with MPRester(\"xWGoUhg0LtBEwfAi\") as m:\n",
    "    structure = m.get_structure_by_material_id(\"mp-754537\") #object structure\n",
    "    truestru = SpacegroupAnalyzer(structure).get_primitive_standard_structure() #Object structure\n",
    "    sg = SpacegroupAnalyzer(truestru) #objet SpacegroupAnalyzer"
   ]
  },
  {
   "cell_type": "markdown",
   "metadata": {},
   "source": [
    "Ensuite, différentes petites manipulations sont réalisées afin de pouvoir commencer l'analyse des symmétries.\n",
    "En effet, un site internet permmettant de représenter les opérations de symétrie a été donné ([Jmol Crystal Symmetry Explorer](https://www.pslc.ws/jsmol/jcse/explore.htm)). \n",
    "Un object \"SpacegroupAnalyzer\" est crée de manière conventionnel et approprié avec le site fournis ci-dessus."
   ]
  },
  {
   "cell_type": "code",
   "execution_count": 33,
   "metadata": {},
   "outputs": [],
   "source": [
    "conv  = SpacegroupAnalyzer(sg.get_conventional_standard_structure()) #nouvel object conventionnel SpacegroupAnalyzer"
   ]
  },
  {
   "cell_type": "markdown",
   "metadata": {},
   "source": [
    "Pour terminer les manipulations, une liste de toutes les opérations de symétries étaient nécessaires. 36 opérations de symmétries sont trouvé pour la molécule LiLuO2."
   ]
  },
  {
   "cell_type": "code",
   "execution_count": 34,
   "metadata": {},
   "outputs": [],
   "source": [
    "symetrie = conv.get_symmetry_operations()"
   ]
  },
  {
   "cell_type": "markdown",
   "metadata": {},
   "source": [
    "## 1) Inversion pour un atome d'oxygène"
   ]
  },
  {
   "cell_type": "markdown",
   "metadata": {},
   "source": [
    "Une première opération de symétrie est appliquée à l'atome d'oxygène en position (0.67,0.33,0.58).Ces positions sont trouvées via le site [Jmol Crystal Symmetry Explorer](https://www.pslc.ws/jsmol/jcse/explore.htm (position n°7 sur le site)\n",
    "Cette opération est la deuxième opération de symétrie du site ([Jmol Crystal Symmetry Explorer](https://www.pslc.ws/jsmol/jcse/explore.htm)). "
   ]
  },
  {
   "cell_type": "code",
   "execution_count": 35,
   "metadata": {},
   "outputs": [
    {
     "name": "stdout",
     "output_type": "stream",
     "text": [
      "La matrice de rotation de l'inversion est  [[-1.  0.  0.]\n",
      " [ 0. -1.  0.]\n",
      " [ 0.  0. -1.]]\n",
      "Le vecteur de translation de l'inversion est  [0. 0. 0.]\n",
      "Les coordonées du vecteurs après inversion sont [-0.67 -0.33 -0.58]\n"
     ]
    }
   ],
   "source": [
    "Inversion = symetrie[1] #Nous donne la matrice d'inversion\n",
    "Inversion.operate((0.67, 0.33, 0.58))\n",
    "print(\"La matrice de rotation de l'inversion est \", Inversion.rotation_matrix)\n",
    "print(\"Le vecteur de translation de l'inversion est \", Inversion.translation_vector)\n",
    "print(\"Les coordonées du vecteurs après inversion sont\",Inversion.operate((0.67, 0.33, 0.58)) )"
   ]
  },
  {
   "cell_type": "markdown",
   "metadata": {},
   "source": [
    "Ci-dessous, une photo représentant l'effet de cette symétrie."
   ]
  },
  {
   "cell_type": "code",
   "execution_count": 36,
   "metadata": {},
   "outputs": [
    {
     "data": {
      "image/png": "[encoded data removed]",
      "text/plain": [
       "<Figure size 432x288 with 1 Axes>"
      ]
     },
     "metadata": {
      "needs_background": "light"
     },
     "output_type": "display_data"
    }
   ],
   "source": [
    "img = mpimg.imread(\"inversionO2.png\")\n",
    "plt.imshow(img)\n",
    "plt.show()"
   ]
  },
  {
   "cell_type": "markdown",
   "metadata": {},
   "source": [
    "## 2) Réflexion sur un atome de luthécium\n",
    "Une opération de symétrie est maintenant appliquée à un atome de Luthécium qui se trouve en position (0.33,0.67,0.17). Le plan miroir choisir est le plan (-y,-x,z) (symétrie n°8 sur le site [Jmol Crystal Symmetry Explorer](https://www.pslc.ws/jsmol/jcse/explore.htm).) "
   ]
  },
  {
   "cell_type": "code",
   "execution_count": 37,
   "metadata": {},
   "outputs": [
    {
     "name": "stdout",
     "output_type": "stream",
     "text": [
      "La matrice de rotation de la réflexion est  [[ 0. -1.  0.]\n",
      " [-1.  0.  0.]\n",
      " [ 0.  0.  1.]]\n"
     ]
    },
    {
     "ename": "AttributeError",
     "evalue": "'SymmOp' object has no attribute 'translation_matrix'",
     "output_type": "error",
     "traceback": [
      "\u001b[0;31m---------------------------------------------------------------------------\u001b[0m",
      "\u001b[0;31mAttributeError\u001b[0m                            Traceback (most recent call last)",
      "\u001b[0;32m<ipython-input-37-3fdf9bbe964a>\u001b[0m in \u001b[0;36m<module>\u001b[0;34m\u001b[0m\n\u001b[1;32m      2\u001b[0m \u001b[0mreflex\u001b[0m\u001b[0;34m.\u001b[0m\u001b[0moperate\u001b[0m\u001b[0;34m(\u001b[0m\u001b[0;34m(\u001b[0m\u001b[0;36m0\u001b[0m\u001b[0;34m,\u001b[0m\u001b[0;36m33\u001b[0m\u001b[0;34m,\u001b[0m\u001b[0;36m0.67\u001b[0m\u001b[0;34m,\u001b[0m\u001b[0;36m0.17\u001b[0m\u001b[0;34m)\u001b[0m\u001b[0;34m)\u001b[0m\u001b[0;34m\u001b[0m\u001b[0;34m\u001b[0m\u001b[0m\n\u001b[1;32m      3\u001b[0m \u001b[0mprint\u001b[0m\u001b[0;34m(\u001b[0m\u001b[0;34m\"La matrice de rotation de la réflexion est \"\u001b[0m\u001b[0;34m,\u001b[0m \u001b[0mreflex\u001b[0m\u001b[0;34m.\u001b[0m\u001b[0mrotation_matrix\u001b[0m\u001b[0;34m)\u001b[0m\u001b[0;34m\u001b[0m\u001b[0;34m\u001b[0m\u001b[0m\n\u001b[0;32m----> 4\u001b[0;31m \u001b[0mprint\u001b[0m\u001b[0;34m(\u001b[0m\u001b[0;34m\"Le vecteur de translation de la réflexion est \"\u001b[0m\u001b[0;34m,\u001b[0m \u001b[0mreflex\u001b[0m\u001b[0;34m.\u001b[0m\u001b[0mtranslation_matrix\u001b[0m\u001b[0;34m)\u001b[0m\u001b[0;34m\u001b[0m\u001b[0;34m\u001b[0m\u001b[0m\n\u001b[0m\u001b[1;32m      5\u001b[0m \u001b[0mprint\u001b[0m\u001b[0;34m(\u001b[0m\u001b[0;34m\"Les coordonées du vecteurs après la réflexion sont\"\u001b[0m\u001b[0;34m,\u001b[0m\u001b[0mreflex\u001b[0m\u001b[0;34m.\u001b[0m\u001b[0moperate\u001b[0m\u001b[0;34m(\u001b[0m\u001b[0;34m(\u001b[0m\u001b[0;36m0\u001b[0m\u001b[0;34m,\u001b[0m\u001b[0;36m33\u001b[0m\u001b[0;34m,\u001b[0m\u001b[0;36m0.67\u001b[0m\u001b[0;34m,\u001b[0m\u001b[0;36m0.17\u001b[0m\u001b[0;34m)\u001b[0m\u001b[0;34m)\u001b[0m\u001b[0;34m)\u001b[0m\u001b[0;34m\u001b[0m\u001b[0;34m\u001b[0m\u001b[0m\n",
      "\u001b[0;31mAttributeError\u001b[0m: 'SymmOp' object has no attribute 'translation_matrix'"
     ]
    }
   ],
   "source": [
    "reflex = symetrie[7]\n",
    "reflex.operate((0,33,0.67,0.17))\n",
    "print(\"La matrice de rotation de la réflexion est \", reflex.rotation_matrix)\n",
    "print(\"Le vecteur de translation de la réflexion est \", reflex.translation_vector)\n",
    "print(\"Les coordonées du vecteurs après la réflexion sont\",reflex.operate((0,33,0.67,0.17)))"
   ]
  },
  {
   "cell_type": "markdown",
   "metadata": {},
   "source": [
    "Ci-dessous une image représentant l'effet de la réflexion sur l'atome de luthécium."
   ]
  },
  {
   "cell_type": "code",
   "execution_count": 17,
   "metadata": {},
   "outputs": [
    {
     "data": {
      "image/png": "[encoded data removed]",
      "text/plain": [
       "<Figure size 432x288 with 1 Axes>"
      ]
     },
     "metadata": {
      "needs_background": "light"
     },
     "output_type": "display_data"
    }
   ],
   "source": [
    "img = mpimg.imread(\"reflexionLu.png\")\n",
    "plt.imshow(img)\n",
    "plt.show()"
   ]
  },
  {
   "cell_type": "markdown",
   "metadata": {},
   "source": [
    "## 3) Translation sur un atome de lithium\n",
    "La dernière opération est une opération de translation sur un atome de lithium qui se trouve en position (0.67,0.33,0.33). La translation s'effectue d'une valeure de "
   ]
  },
  {
   "cell_type": "code",
   "execution_count": 38,
   "metadata": {},
   "outputs": [
    {
     "name": "stdout",
     "output_type": "stream",
     "text": [
      "La matrice de rotation de la translation est  [[1. 0. 0.]\n",
      " [0. 1. 0.]\n",
      " [0. 0. 1.]]\n",
      "La matrice de translation de la translation est  [0.66666667 0.33333333 0.33333333]\n",
      "Les coordonées du vecteurs après la translation sont [1.33666667 0.66333333 0.66333333]\n"
     ]
    }
   ],
   "source": [
    "translation = symetrie[12]\n",
    "translation.operate((0.67,0.33,0.33))\n",
    "print(\"La matrice de rotation de la translation est \", translation.rotation_matrix)\n",
    "print(\"La matrice de translation de la translation est \", translation.translation_vector)\n",
    "print(\"Les coordonées du vecteurs après la translation sont\",translation.operate((0.67,0.33,0.33)))"
   ]
  },
  {
   "cell_type": "markdown",
   "metadata": {},
   "source": [
    "Ci-dessous une image représentant l'effet de la translation  sur l'atome de Lithium."
   ]
  },
  {
   "cell_type": "code",
   "execution_count": 22,
   "metadata": {},
   "outputs": [
    {
     "data": {
      "image/png": "[encoded data removed]",
      "text/plain": [
       "<Figure size 432x288 with 1 Axes>"
      ]
     },
     "metadata": {
      "needs_background": "light"
     },
     "output_type": "display_data"
    }
   ],
   "source": [
    "img = mpimg.imread(\"translationLi.png\")\n",
    "plt.imshow(img)\n",
    "plt.show()"
   ]
  },
  {
   "cell_type": "code",
   "execution_count": null,
   "metadata": {},
   "outputs": [],
   "source": []
  }
 ],
 "metadata": {
  "kernelspec": {
   "display_name": "Python 3",
   "language": "python",
   "name": "python3"
  },
  "language_info": {
   "codemirror_mode": {
    "name": "ipython",
    "version": 3
   },
   "file_extension": ".py",
   "mimetype": "text/x-python",
   "name": "python",
   "nbconvert_exporter": "python",
   "pygments_lexer": "ipython3",
   "version": "3.6.8"
  }
 },
 "nbformat": 4,
 "nbformat_minor": 2
}

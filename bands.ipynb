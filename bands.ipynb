{
 "cells": [
  {
   "cell_type": "markdown",
   "metadata": {},
   "source": [
    "# Tâches n° 8 : Analyse de la structure de bande du matériau \"LiLuO2\""
   ]
  },
  {
   "cell_type": "markdown",
   "metadata": {},
   "source": [
    "Cette fois, il n'est pas nécessaire de télécharger la structure du matériau. Il faut uniquement télécharger la structure de bande de celui-ci. Pour réaliser cela la référence n°1 est utilisée."
   ]
  },
  {
   "cell_type": "code",
   "execution_count": 1,
   "metadata": {},
   "outputs": [],
   "source": [
    "from pymatgen.electronic_structure.plotter import BSPlotter \n",
    "from pymatgen.ext.matproj import MPRester\n",
    "\n",
    "with MPRester(\"xWGoUhg0LtBEwfAi\") as m:\n",
    "    bs = m.get_bandstructure_by_material_id(\"mp-754537\")\n",
    "    dos = m.get_dos_by_material_id(\"mp-754537\")"
   ]
  },
  {
   "cell_type": "markdown",
   "metadata": {},
   "source": [
    "# 0) Graphe de la structure de bande\n",
    "Permet de faciliter la visualisation du problème."
   ]
  },
  {
   "cell_type": "code",
   "execution_count": 2,
   "metadata": {},
   "outputs": [
    {
     "data": {
      "text/plain": [
       "<Figure size 1200x800 with 1 Axes>"
      ]
     },
     "metadata": {},
     "output_type": "display_data"
    }
   ],
   "source": [
    "BSPlotter(bs).show()\n",
    "#Fonction peut être trouvée grâce à la référence n°3"
   ]
  },
  {
   "cell_type": "markdown",
   "metadata": {},
   "source": [
    "## 1) La bande interdite"
   ]
  },
  {
   "cell_type": "code",
   "execution_count": 3,
   "metadata": {},
   "outputs": [
    {
     "name": "stdout",
     "output_type": "stream",
     "text": [
      "La bande interdite a une valeur  4.7738 eV\n"
     ]
    }
   ],
   "source": [
    "print(\"La bande interdite a une valeur \", bs.get_band_gap()['energy'], \"eV\")\n",
    "#Cette fonction est trouvée grâce à la référence n°2"
   ]
  },
  {
   "cell_type": "markdown",
   "metadata": {},
   "source": [
    "## 2.1) Direction dans laquelle la dernière bande de valence présente le plus et le moins de dispersion."
   ]
  },
  {
   "cell_type": "markdown",
   "metadata": {},
   "source": [
    "Pour commencer il est nécessaire de déterminer les informations de cette dernière bande de valence. Par exemple, sur l'ensemble des bandes, la quantième est-ce ?"
   ]
  },
  {
   "cell_type": "markdown",
   "metadata": {},
   "source": [
    "Pour répondre à cette question, on utilise une fonction donnant toutes les informations sur un point bien précis : le point le plus haut en énergie de la bande de valence (qui se trouve bien entendu sur celle-ci). Cette fonction retourne un dictionnaire, il est donc facile de trouver les informations recherchées."
   ]
  },
  {
   "cell_type": "code",
   "execution_count": 4,
   "metadata": {
    "scrolled": true
   },
   "outputs": [
    {
     "name": "stdout",
     "output_type": "stream",
     "text": [
      "defaultdict(<class 'list'>, {<Spin.up: 1>: [11]})\n"
     ]
    }
   ],
   "source": [
    "print(bs.get_vbm()[\"band_index\"])\n",
    "#trouvé grâce à la référence n°2"
   ]
  },
  {
   "cell_type": "markdown",
   "metadata": {},
   "source": [
    "Sur les informations données ci-dessus, on voit que la dernière bande de valence est la 11ème bande électronique du matériau. \n",
    "On peut donc déterminer les différents couples (énergie,distance) de cette bande. \n",
    "\n",
    "----\n",
    "Pour cela, on utilise une fonction \"bs_plot_data()\" qui permet de récupérer l'ensemble des données nécéssaires pour réaliser le graphe de bandes de structure qui se trouve au point 0) du Notebook ci-dessus."
   ]
  },
  {
   "cell_type": "code",
   "execution_count": 5,
   "metadata": {},
   "outputs": [],
   "source": [
    "d = BSPlotter(bs).bs_plot_data() ##l'ensemble des données du graphe sous forme d'un dictionnaire\n",
    "# Cette fonction a été trouvée grâce à la référence n°3"
   ]
  },
  {
   "cell_type": "markdown",
   "metadata": {},
   "source": [
    "### Les énergies"
   ]
  },
  {
   "cell_type": "code",
   "execution_count": 6,
   "metadata": {},
   "outputs": [
    {
     "data": {
      "text/plain": [
       "[-0.10310000000000008,\n",
       " -0.10010000000000008,\n",
       " -0.09179999999999999,\n",
       " -0.08010000000000006,\n",
       " -0.0677000000000001,\n",
       " -0.05810000000000004,\n",
       " -0.05449999999999999,\n",
       " -0.059700000000000086,\n",
       " -0.07610000000000006,\n",
       " -0.1050000000000001,\n",
       " -0.14690000000000003,\n",
       " -0.20140000000000002,\n",
       " -0.26680000000000004,\n",
       " -0.3409000000000001,\n",
       " -0.42000000000000004,\n",
       " -0.49100000000000005,\n",
       " -0.48660000000000003,\n",
       " -0.47900000000000004,\n",
       " -0.46980000000000005,\n",
       " -0.46030000000000004,\n",
       " -0.4516,\n",
       " -0.4448000000000001,\n",
       " -0.4404,\n",
       " -0.43890000000000007]"
      ]
     },
     "execution_count": 6,
     "metadata": {},
     "output_type": "execute_result"
    }
   ],
   "source": [
    "d[\"energy\"][0][\"1\"][11] \n",
    "# d[\"energy\"] donne accès à la partie énergie du dictionnaire d \n",
    "#le [0] correspond aux valeurs de l'énergie dans la première partie du graphe (entre Γ et L ) (voir graphe ci-dessus)\n",
    "#le [\"1\"] indique le spin \n",
    "#le [11] est l'index de la 11ème bande : la dernière bande de valence\n",
    "#Ce qui apparait est donc l'ensemble des valeurs de l'énergie sur cette bande à cet endroit précis du graphe"
   ]
  },
  {
   "cell_type": "markdown",
   "metadata": {},
   "source": [
    "### Les positions"
   ]
  },
  {
   "cell_type": "code",
   "execution_count": 7,
   "metadata": {},
   "outputs": [
    {
     "name": "stdout",
     "output_type": "stream",
     "text": [
      "[0.0, 1.1274269081184503, 1.1274269081184503, 1.8574091648062747, 3.0466392922920202, 3.0466392922920202, 3.6708968435603975, 3.6708968435603975, 4.9954941639910935, 5.590109105864336, 5.590109105864336, 5.812387795441968, 5.812387795441968, 6.842291367151889, 7.265737912509289]\n",
      "['$\\\\Gamma$', 'L', 'L', '$B_1$$\\\\mid$B', 'Z', 'Z', '$\\\\Gamma$', '$\\\\Gamma$', 'X$\\\\mid$Q', 'F', 'F', '$P_1$', '$P_1$', 'Z$\\\\mid$L', 'P']\n"
     ]
    }
   ],
   "source": [
    "print(d[\"ticks\"][\"distance\"])\n",
    "# d[\"ticks\"] donne accès à la partie ticks du dictionnaire d\n",
    "# [\"distances\"] donne accès à la partie distance de la partie ticks\n",
    "# ces distances représentent les positions de chaque symbole du graphe\n",
    "print(d[\"ticks\"][\"label\"])\n",
    "#représente les symboles des positions du graphe"
   ]
  },
  {
   "cell_type": "markdown",
   "metadata": {},
   "source": [
    "Dans la liste dans `d[\"ticks\"][\"distance\"]` et `d[\"ticks\"][\"label\"]`  certains des éléments sont donnés **deux fois d'affilée**. Pour se faciliter la vie pour la suite, les éléments identiques **qui se suivent dans la liste** sont supprimés. "
   ]
  },
  {
   "cell_type": "code",
   "execution_count": 8,
   "metadata": {},
   "outputs": [
    {
     "name": "stdout",
     "output_type": "stream",
     "text": [
      "Avant ['$\\\\Gamma$', 'L', 'L', '$B_1$$\\\\mid$B', 'Z', 'Z', '$\\\\Gamma$', '$\\\\Gamma$', 'X$\\\\mid$Q', 'F', 'F', '$P_1$', '$P_1$', 'Z$\\\\mid$L', 'P']\n",
      "Après ['$\\\\Gamma$', 'L', '$B_1$$\\\\mid$B', 'Z', '$\\\\Gamma$', 'X$\\\\mid$Q', 'F', '$P_1$', 'Z$\\\\mid$L', 'P']\n"
     ]
    }
   ],
   "source": [
    "ddistance = list(set(d[\"ticks\"][\"distance\"]))\n",
    "# Pour le label on doit travailler autrement car on ne peut pas simplement supprimer l'ensemble des doublons.\n",
    "# En effet, si on regarde sur le graphe ci-dessus, le gamma est utilisé deux fois dans le graphe mais il ne faut pas le\n",
    "# retirer car il n'est pas donné deux fois d'affilée dans la liste.\n",
    "#Je procède donc au cas par cas.\n",
    "dlab = d[\"ticks\"][\"label\"]\n",
    "print(\"Avant\", dlab)\n",
    "dlab.remove('L')\n",
    "dlab.remove('Z')\n",
    "dlab.remove('F')\n",
    "dlab.remove('$P_1$')\n",
    "del dlab[4]\n",
    "print(\"Après\", dlab)\n",
    "\n",
    "# On voit qu'on a bien retiré les élements quand ils étaient donnés deux fois d'affilée."
   ]
  },
  {
   "cell_type": "markdown",
   "metadata": {},
   "source": [
    "Avec ces informations, le graphe peut être parcouru de gauche à droite par itération.\n",
    "\n",
    "----\n",
    "\n",
    "Je vais procéder de cette manière : \n",
    "Prenons le cas de la première itération par exemple : \n",
    "- Les valeurs de l'énergie en Γ et en L seront prises \n",
    "- La distance de cette partie est récupérée \n",
    "- Le calcul de la pente sera effectué c'est-à-dire : (énergie en L - énergie Γ ) / distance\n",
    "- A chaque itération, je vérifierais si cette pente est plus grande ou plus petite que la précédente et je pourrais trouver ainsi la dispersion la plus grande et la plus petite.\n"
   ]
  },
  {
   "cell_type": "code",
   "execution_count": 9,
   "metadata": {},
   "outputs": [
    {
     "name": "stdout",
     "output_type": "stream",
     "text": [
      "Dispersion max : pente 0.399578180186098 et la direction est  Z$\\mid$L - P\n",
      "Dispersion min : pente 0.006298399557151936 et la direction est  F - $P_1$\n"
     ]
    }
   ],
   "source": [
    "pentemin = 999999\n",
    "pentemax = -999999\n",
    "endroitmax = 0\n",
    "endroitmin = 0\n",
    "for i in range(0,9) :\n",
    "    lend = len(d[\"energy\"][i][\"1\"][11])\n",
    "    \n",
    "    eg = d[\"energy\"][i][\"1\"][11][0] #première énergie des valeurs d'onde\n",
    "    ed = d[\"energy\"][i][\"1\"][11][lend-1] #dernière énergie\n",
    "    \n",
    "     \n",
    "    pg = ddistance[i] #position à gauche\n",
    "    pd = ddistance[i+1] #position à droite\n",
    "\n",
    "    \n",
    "    pente = abs((eg-ed)/(pg-pd))\n",
    "    \n",
    "    if (pente > pentemax) :\n",
    "        pentemax = pente\n",
    "        endroitmaxg = dlab[i]\n",
    "        endroitmaxd = dlab[i+1]  \n",
    "        \n",
    "    if (pente < pentemin) :\n",
    "        pentemin = pente \n",
    "        endroitming = dlab[i]\n",
    "        endroitmind = dlab[i+1] \n",
    "\n",
    "print(\"Dispersion max :\", \"pente\", pentemax, \"et la direction est \", endroitmaxg, \"-\", endroitmaxd ) \n",
    "print(\"Dispersion min :\", \"pente\", pentemin, \"et la direction est \", endroitming, \"-\", endroitmind)              "
   ]
  },
  {
   "cell_type": "markdown",
   "metadata": {},
   "source": [
    "## 2.2) Direction dans laquelle la première bande de conduction présente le plus et le moins de dispersion."
   ]
  },
  {
   "cell_type": "markdown",
   "metadata": {},
   "source": [
    "Le même raisonnement est effectué pour la bande de conduction. "
   ]
  },
  {
   "cell_type": "code",
   "execution_count": 10,
   "metadata": {},
   "outputs": [
    {
     "name": "stdout",
     "output_type": "stream",
     "text": [
      "defaultdict(<class 'list'>, {<Spin.up: 1>: [12]})\n"
     ]
    }
   ],
   "source": [
    "print(bs.get_cbm()[\"band_index\"]) #comme attendu, la bande de conduction se trouve à la bande n°12"
   ]
  },
  {
   "cell_type": "code",
   "execution_count": 11,
   "metadata": {},
   "outputs": [
    {
     "name": "stdout",
     "output_type": "stream",
     "text": [
      "Dispersion max : pente 2.9656166971598137 et la direction est  X$\\mid$Q - F\n",
      "Dispersion min : pente 0.32365734521005696 et la direction est  $\\Gamma$ - L\n"
     ]
    }
   ],
   "source": [
    "pentemin = 999999\n",
    "pentemax = -999999\n",
    "endroitmax = 0\n",
    "endroitmin = 0\n",
    "for i in range(0,9) :\n",
    "    lend = len(d[\"energy\"][i][\"1\"][12])\n",
    "    \n",
    "    eg = d[\"energy\"][i][\"1\"][12][0]\n",
    "    ed = d[\"energy\"][i][\"1\"][12][lend-1]\n",
    "    \n",
    "     \n",
    "    pg = ddistance[i]\n",
    "    pd = ddistance[i+1]\n",
    "\n",
    "    \n",
    "    pente = abs((eg-ed)/(pg-pd))\n",
    "\n",
    "    if (pente > pentemax) :\n",
    "        pentemax = pente\n",
    "        endroitmaxg = dlab[i]\n",
    "        endroitmaxd = dlab[i+1]  \n",
    "        \n",
    "    if (pente < pentemin) :\n",
    "        pentemin = pente \n",
    "        endroitming = dlab[i]\n",
    "        endroitmind = dlab[i+1] \n",
    "\n",
    "print(\"Dispersion max :\", \"pente\", pentemax, \"et la direction est \", endroitmaxg, \"-\", endroitmaxd ) \n",
    "print(\"Dispersion min :\", \"pente\", pentemin, \"et la direction est \", endroitming, \"-\", endroitmind)       "
   ]
  },
  {
   "cell_type": "markdown",
   "metadata": {},
   "source": [
    "## 2.3) Le graphe contenant les flêches indiquant la dispersion: "
   ]
  },
  {
   "cell_type": "markdown",
   "metadata": {},
   "source": [
    "![Graphe avec flêche](graphe.png \"Graphe avec flêche\")"
   ]
  },
  {
   "cell_type": "markdown",
   "metadata": {},
   "source": [
    "Au centre, j'ai ajouté les numéros se rapportant aux différentes tranches du graphe analysé."
   ]
  },
  {
   "cell_type": "markdown",
   "metadata": {},
   "source": [
    "## 3.0) Masse effective : Les équations utilisées"
   ]
  },
  {
   "cell_type": "markdown",
   "metadata": {},
   "source": [
    "Après quelques recherches sur internet, j'ai trouvé les références n°4 et n°5. \n",
    "J'utilise donc l'équation ci-dessous car nos hypothèses le permettent."
   ]
  },
  {
   "cell_type": "markdown",
   "metadata": {},
   "source": [
    "$E(k)-E_{g} = \\frac{\\hbar^{2}\\cdot k^{2}}{2 \\cdot m^{*}}$\n",
    "\n",
    "-----\n",
    "\n",
    "Avec, \n",
    "\n",
    "- $E(k)$ est l'énergie d'une électron de vecteur d'onde k en $[1/nm]$ = $10^9 [m]$\n",
    "- $E_{g}$ la valeure de la bande interdite : $4.7738 eV$\n",
    "- $\\hbar$ la constante de Planck : $6,62607004 × 10^{-34}$ $\\frac{kg\\cdot m^{2}}{s}$"
   ]
  },
  {
   "cell_type": "markdown",
   "metadata": {},
   "source": [
    "## 3.1) Masse effective au sommet de la dernière bande de valence."
   ]
  },
  {
   "cell_type": "code",
   "execution_count": 15,
   "metadata": {},
   "outputs": [],
   "source": [
    "evalence = (bs.get_vbm()[\"energy\"])* 1.60218**(-19) #E(k) en J\n",
    "kindex = bs.get_vbm()['kpoint_index']\n",
    "eg = (bs.get_band_gap()['energy']) *1.60218**(-19)\n",
    "hbar = 6.62607004 * 10**(-34)\n",
    "kv = bs.as_dict()[\"kpoints\"][kindex[0]]\n",
    "truekv = ((kv[0]*10**9)**2+(kv[1]*10**9)**2+(kv[2]*10**9)**2)"
   ]
  },
  {
   "cell_type": "code",
   "execution_count": 16,
   "metadata": {},
   "outputs": [
    {
     "name": "stdout",
     "output_type": "stream",
     "text": [
      "-7.145511557185907e-48\n"
     ]
    }
   ],
   "source": [
    "mev = (hbar**2 * truekv)/(2*(evalence - eg))\n",
    "print(mev)"
   ]
  },
  {
   "cell_type": "markdown",
   "metadata": {},
   "source": [
    "## 3.2) Masse effective à la base de la dernière bande de conduction."
   ]
  },
  {
   "cell_type": "code",
   "execution_count": 17,
   "metadata": {},
   "outputs": [],
   "source": [
    "econdu = (bs.get_cbm()[\"energy\"])* 1.60218**(-19) #Ek en J\n",
    "kindex = bs.get_cbm()['kpoint_index']\n",
    "kc = bs.as_dict()[\"kpoints\"][kindex[0]]\n",
    "truekc = ((kc[0]*10**9)**2+(kc[1]*10**9)**2+(kc[2]*10**9)**2)"
   ]
  },
  {
   "cell_type": "code",
   "execution_count": 18,
   "metadata": {},
   "outputs": [
    {
     "name": "stdout",
     "output_type": "stream",
     "text": [
      "8.862575356384544e-46\n"
     ]
    }
   ],
   "source": [
    "mec = (hbar**2 * truekc)/(2*(econdu - eg))\n",
    "print(mec)"
   ]
  },
  {
   "cell_type": "markdown",
   "metadata": {},
   "source": [
    "Comme attendu, une valeur négative est bien obtenue pour la masse effective de la bande de valence et une valeur positive pour la masse effective de conduction. "
   ]
  },
  {
   "cell_type": "markdown",
   "metadata": {},
   "source": [
    "# Références : \n",
    "1. [pymatgen.ext.matproj](https://pymatgen.org/pymatgen.ext.matproj.html?highlight=get_bandstructure_by_material_id#pymatgen.ext.matproj.MPRester.get_bandstructure_by_material_id)\n",
    "\n",
    "2. [pymatgen.electronic_structure.bandstructure](https://pymatgen.org/pymatgen.electronic_structure.bandstructure.html) \n",
    "3. [pymatgen.electronic_structure.plotter](https://pymatgen.org/pymatgen.electronic_structure.plotter.html)\n",
    "4. [Effective Mass](http://folk.uio.no/ravi/cutn/semiphy/6.l7_intrinsic-extrinsic.pdf)\n",
    "5. [Effective mass (solid-state physics)](https://en.wikipedia.org/wiki/Effective_mass_(solid-state_physics))"
   ]
  }
 ],
 "metadata": {
  "kernelspec": {
   "display_name": "Python 3",
   "language": "python",
   "name": "python3"
  },
  "language_info": {
   "codemirror_mode": {
    "name": "ipython",
    "version": 3
   },
   "file_extension": ".py",
   "mimetype": "text/x-python",
   "name": "python",
   "nbconvert_exporter": "python",
   "pygments_lexer": "ipython3",
   "version": "3.6.8"
  }
 },
 "nbformat": 4,
 "nbformat_minor": 2
}

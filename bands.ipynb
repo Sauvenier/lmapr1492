{
 "cells": [
  {
   "cell_type": "markdown",
   "metadata": {},
   "source": [
    "# Tâches n° 8: Analyse de la structure de bande du matériau \"LiLuO2\""
   ]
  },
  {
   "cell_type": "markdown",
   "metadata": {},
   "source": [
    "Pour commencer, des informations concernant la structure électronique du matériau doit être trouvé. Pour cela, "
   ]
  },
  {
   "cell_type": "code",
   "execution_count": 13,
   "metadata": {},
   "outputs": [],
   "source": [
    "from pymatgen.ext.matproj import SpacegroupAnalyzer\n",
    "from pymatgen.electronic_structure.dos  import DOS \n",
    "from pymatgen.electronic_structure.bandstructure import BandStructure\n",
    "from pymatgen.electronic_structure.plotter import BSPlotter \n",
    "from pymatgen.electronic_structure.plotter import BSPlotterProjected\n",
    "from pymatgen.ext.matproj import MPRester\n",
    "import matplotlib.image as mpimg\n",
    "import matplotlib.pyplot as plt\n",
    "\n",
    "\n",
    "with MPRester(\"xWGoUhg0LtBEwfAi\") as m:\n",
    "    structure = m.get_structure_by_material_id(\"mp-754537\")\n",
    "    truestru = SpacegroupAnalyzer(structure).get_primitive_standard_structure() \n",
    "    al = m.get_doc(\"mp-754537\")\n",
    "    dos = m.get_dos_by_material_id(\"mp-754537\")\n",
    "    bs = m.get_bandstructure_by_material_id(\"mp-754537\")\n",
    "   "
   ]
  },
  {
   "cell_type": "markdown",
   "metadata": {},
   "source": [
    "## 1) La bande interdite"
   ]
  },
  {
   "cell_type": "code",
   "execution_count": 180,
   "metadata": {},
   "outputs": [
    {
     "name": "stdout",
     "output_type": "stream",
     "text": [
      "La bande interdite a une valeur  4.614800000000001 eV\n"
     ]
    }
   ],
   "source": [
    "print(\"La bande interdite a une valeur \", dos.get_gap(), \"eV\")"
   ]
  },
  {
   "cell_type": "markdown",
   "metadata": {},
   "source": [
    "## 2.1) Direction où la dernière bande de valence présente le plus et le moins de dispersion."
   ]
  },
  {
   "cell_type": "markdown",
   "metadata": {},
   "source": [
    "Pour commencer il est nécessaire de déterminer quel est la dernière bande de valence. Pour cela, la classe \"bandstructure\" est utilée."
   ]
  },
  {
   "cell_type": "code",
   "execution_count": 193,
   "metadata": {},
   "outputs": [
    {
     "name": "stdout",
     "output_type": "stream",
     "text": [
      "{'band_index': defaultdict(<class 'list'>, {<Spin.up: 1>: [11]}), 'kpoint_index': [86], 'kpoint': <pymatgen.electronic_structure.bandstructure.Kpoint object at 0x7f017e48cf98>, 'energy': 0.9603, 'projections': {}}\n",
      "1.08405428\n"
     ]
    }
   ],
   "source": [
    "print(bs.get_vbm())#[\"band_index\"])"
   ]
  },
  {
   "cell_type": "markdown",
   "metadata": {},
   "source": [
    "Sur les informations données ci-dessus, on voit que la dernière bande de valence est la 11ème bande électronique du matériau. \n",
    "On peut donc déterminer les différents couple (energie,distance). \n",
    "Pour cela on utilise la classe \"BSPlotter\" qui va permettre de récupérer l'ensemble des données nécessaire. "
   ]
  },
  {
   "cell_type": "code",
   "execution_count": 2,
   "metadata": {},
   "outputs": [],
   "source": [
    "d = BSPlotter(bs).bs_plot_data() ##l'ensemble des données sous forme d'un dictionnaire"
   ]
  },
  {
   "cell_type": "markdown",
   "metadata": {},
   "source": [
    "### Les énergies"
   ]
  },
  {
   "cell_type": "code",
   "execution_count": 11,
   "metadata": {},
   "outputs": [
    {
     "data": {
      "text/plain": [
       "[-0.10310000000000008,\n",
       " -0.10010000000000008,\n",
       " -0.09179999999999999,\n",
       " -0.08010000000000006,\n",
       " -0.0677000000000001,\n",
       " -0.05810000000000004,\n",
       " -0.05449999999999999,\n",
       " -0.059700000000000086,\n",
       " -0.07610000000000006,\n",
       " -0.1050000000000001,\n",
       " -0.14690000000000003,\n",
       " -0.20140000000000002,\n",
       " -0.26680000000000004,\n",
       " -0.3409000000000001,\n",
       " -0.42000000000000004,\n",
       " -0.49100000000000005,\n",
       " -0.48660000000000003,\n",
       " -0.47900000000000004,\n",
       " -0.46980000000000005,\n",
       " -0.46030000000000004,\n",
       " -0.4516,\n",
       " -0.4448000000000001,\n",
       " -0.4404,\n",
       " -0.43890000000000007]"
      ]
     },
     "execution_count": 11,
     "metadata": {},
     "output_type": "execute_result"
    }
   ],
   "source": [
    "d[\"energy\"][0][\"1\"][11] \n",
    "# d[\"energy\"] donne accès à la partie energie du dictionnaire d \n",
    "#le [0] correspond aux valeurs de l'énergie dans la première partie du graphe (entre Γ et L )\n",
    "#le [\"1\"] indique le spin\"\n",
    "#le [11] est l'index de la 11ème bande, la dernière bande de valence\n",
    "#Ce qui apparait est donc l'ensemble des valeurs de l'énergie sur cette bande à cet endroit"
   ]
  },
  {
   "cell_type": "markdown",
   "metadata": {},
   "source": [
    "### Les distances"
   ]
  },
  {
   "cell_type": "code",
   "execution_count": 27,
   "metadata": {},
   "outputs": [
    {
     "data": {
      "text/plain": [
       "24"
      ]
     },
     "execution_count": 27,
     "metadata": {},
     "output_type": "execute_result"
    }
   ],
   "source": [
    "d[\"distances\"][0][0]\n",
    "#d[\"distances\"] donne accès à la partie distance du dictionnaire d\n",
    "# le [0] correspond aux tableaux des positions de la première partie du graphe (entre Γ et L dans notre cas )\n",
    "# le [0] est la première position "
   ]
  },
  {
   "cell_type": "markdown",
   "metadata": {},
   "source": [
    "Avec ces informations, le graphe peut être parcouru de gauche à droite par itération.\n",
    "Je vais procédé de cette manière : \n",
    "Prenons le cas de la première itération : \n",
    "- Les valeurs de l'énergie en Γ et en L seront prise \n",
    "- La distance de cette partie sera récupérée \n",
    "- Le calcul de la pente sera effectuée c'est-à-dire : (energie en L - energie Γ ) / distance\n",
    "- A chaque itération je vérifierais si cette pente est plus grande ou plus petite de la précédente et je pourrais trouver ainsi la dispertion la plus grande et la plus petite.\n"
   ]
  },
  {
   "cell_type": "code",
   "execution_count": 9,
   "metadata": {},
   "outputs": [
    {
     "name": "stdout",
     "output_type": "stream",
     "text": [
      "Dispersion max : pente 0.399578180186098 endroit graphe= 8\n",
      "Dispersion min : pente 0.006298399557151936 endroit graphe= 6\n"
     ]
    }
   ],
   "source": [
    "pentemin = 999999\n",
    "pentemax = -999999\n",
    "endroitmax = 0\n",
    "endroitmin = 0\n",
    "for i in range(0,9) :\n",
    "    lend = len(d[\"energy\"][i][\"1\"][11])\n",
    "    \n",
    "    gauche = d[\"energy\"][i][\"1\"][11][0]\n",
    "    droite = d[\"energy\"][i][\"1\"][11][lend-1]\n",
    "    \n",
    "    pg = d[\"distances\"][i][0]\n",
    "    pd = d[\"distances\"][i][lend-1]\n",
    "\n",
    "    pente = abs((gauche-droite)/(pg - pd))\n",
    "\n",
    "    if (pente > pentemax) :\n",
    "        pentemax = pente\n",
    "        endroitmax = i\n",
    "    if (pente < pentemin) :\n",
    "        pentemin = pente \n",
    "        endroitmin = i\n",
    "print(\"Dispersion max :\", \"pente\", pentemax, \"endroit graphe=\",endroitmax) \n",
    "print(\"Dispersion min :\", \"pente\", pentemin, \"endroit graphe=\",endroitmin)              "
   ]
  },
  {
   "cell_type": "markdown",
   "metadata": {},
   "source": [
    "En conclusion, en ce qui concerne la bande de valence :\n",
    "La dispersion maximale se dans la direction Z|L -P et à une pente de 0.7093787965402684\n",
    "La dispersion minimale se dans la direction F - P1 et à une pente de 0.0025964191245919583"
   ]
  },
  {
   "cell_type": "markdown",
   "metadata": {},
   "source": [
    "## 2.2) Direction où la première bande de conduction présente le plus et le moins de dispersion."
   ]
  },
  {
   "cell_type": "markdown",
   "metadata": {},
   "source": [
    "Le même raisonnement est effectué pour la bande de conduction. "
   ]
  },
  {
   "cell_type": "code",
   "execution_count": 257,
   "metadata": {},
   "outputs": [
    {
     "name": "stdout",
     "output_type": "stream",
     "text": [
      "{'band_index': defaultdict(<class 'list'>, {<Spin.up: 1>: [12]}), 'kpoint_index': [119, 120], 'kpoint': <pymatgen.electronic_structure.bandstructure.Kpoint object at 0x7f017e237f60>, 'energy': 5.7341, 'projections': {}}\n"
     ]
    }
   ],
   "source": [
    "print(bs.get_cbm())#[\"band_index\"]) #comme attendu, la bande de conduction trouve à la bande n°12"
   ]
  },
  {
   "cell_type": "code",
   "execution_count": 8,
   "metadata": {},
   "outputs": [
    {
     "name": "stdout",
     "output_type": "stream",
     "text": [
      "Dispersion max : pente 2.9656166971598137 endroit graphe= 5\n",
      "Dispersion min : pente 0.32365734521005696 endroit graphe= 0\n"
     ]
    }
   ],
   "source": [
    "pentemin = 999999\n",
    "pentemax = -999999\n",
    "endroitmax = 0\n",
    "endroitmin = 0\n",
    "for i in range(0,9) :\n",
    "    lend = len(d[\"energy\"][i][\"1\"][12])\n",
    "    \n",
    "    gauche = d[\"energy\"][i][\"1\"][12][0]\n",
    "    droite = d[\"energy\"][i][\"1\"][12][lend-1]\n",
    "    \n",
    "    pg = d[\"distances\"][i][0]\n",
    "    pd = d[\"distances\"][i][lend-1]\n",
    "\n",
    "    pente = abs((gauche-droite)/(pg - pd))\n",
    "\n",
    "    if (pente > pentemax) :\n",
    "        pentemax = pente\n",
    "        endroitmax = i\n",
    "    if (pente < pentemin) :\n",
    "        pentemin = pente \n",
    "        endroitmin = i\n",
    "print(\"Dispersion max :\", \"pente\", pentemax, \"endroit graphe=\",endroitmax) \n",
    "print(\"Dispersion min :\", \"pente\", pentemin, \"endroit graphe=\",endroitmin)    "
   ]
  },
  {
   "cell_type": "markdown",
   "metadata": {},
   "source": [
    "En conclusion, en ce qui concerne la bande de conduction :\n",
    "La dispersion maximale se dans la direction X|Q - F et à une pente de 2.9978439521872655\n",
    "La dispersion minimale se dans la direction Γ - L et à une pente de 0.21658462034062578"
   ]
  },
  {
   "cell_type": "markdown",
   "metadata": {},
   "source": [
    "## 2.3) Le graphe : "
   ]
  },
  {
   "cell_type": "code",
   "execution_count": 14,
   "metadata": {},
   "outputs": [
    {
     "data": {
      "image/png": "[encoded data removed]",
      "text/plain": [
       "<Figure size 432x288 with 1 Axes>"
      ]
     },
     "metadata": {
      "needs_background": "light"
     },
     "output_type": "display_data"
    }
   ],
   "source": [
    "img = mpimg.imread(\"graphe.png\")\n",
    "plt.imshow(img)\n",
    "plt.show()"
   ]
  },
  {
   "cell_type": "markdown",
   "metadata": {},
   "source": [
    "## 3) Masse effective"
   ]
  },
  {
   "cell_type": "markdown",
   "metadata": {},
   "source": [
    "# Références : \n",
    "Bande interdite : [pymatgen.electronic_structure.dos module](https://pymatgen.org/pymatgen.electronic_structure.dos.html?highlight=dos#pymatgen.electronic_structure.dos.DOS) Page sur laquelle j'ai trouvé la fonction a utilisé pour déterminer la bande interdite."
   ]
  }
 ],
 "metadata": {
  "kernelspec": {
   "display_name": "Python 3",
   "language": "python",
   "name": "python3"
  },
  "language_info": {
   "codemirror_mode": {
    "name": "ipython",
    "version": 3
   },
   "file_extension": ".py",
   "mimetype": "text/x-python",
   "name": "python",
   "nbconvert_exporter": "python",
   "pygments_lexer": "ipython3",
   "version": "3.6.8"
  }
 },
 "nbformat": 4,
 "nbformat_minor": 2
}
